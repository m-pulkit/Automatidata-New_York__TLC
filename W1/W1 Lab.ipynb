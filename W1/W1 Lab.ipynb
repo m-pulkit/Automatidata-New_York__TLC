{
 "cells": [
  {
   "cell_type": "markdown",
   "id": "7c52cdcb",
   "metadata": {
    "id": "DtNBZFHO3M7n",
    "papermill": {
     "duration": 0.00678,
     "end_time": "2023-05-10T21:11:48.979059",
     "exception": false,
     "start_time": "2023-05-10T21:11:48.972279",
     "status": "completed"
    },
    "tags": []
   },
   "source": [
    "## **Automatidata project**\n",
    "**Course 2 - Get Started with Python**"
   ]
  },
  {
   "cell_type": "markdown",
   "id": "4592f7ae",
   "metadata": {
    "id": "zJCatj3xzrQZ",
    "papermill": {
     "duration": 0.006277,
     "end_time": "2023-05-10T21:11:48.992073",
     "exception": false,
     "start_time": "2023-05-10T21:11:48.985796",
     "status": "completed"
    },
    "tags": []
   },
   "source": [
    "Review the scenario below. Then complete the step-by-step instructions.\n",
    "\n",
    "Welcome to the Automatidata Project!\n",
    "\n",
    "You have just started as a data professional in a fictional data analytics firm, Automatidata. Their client, the New York City Taxi and Limousine Commission (New York City TLC), has hired the Automatidata team for its reputation in helping their clients develop data-based solutions.\n",
    "\n",
    "The team is still in the early stages of the project. Previously, you were asked to complete a project proposal by your supervisor, DeShawn Washington. You have received notice that your project proposal has been approved and that New York City TLC has given the Automatidata team access to their data. To get clear insights, New York TLC's data must be analyzed, key variables identified, and the dataset ensured it is ready for analysis.\n",
    "\n",
    "A notebook was structured and prepared to help you in this project. Please complete the questions inside and prepare a summary for the data team."
   ]
  },
  {
   "cell_type": "markdown",
   "id": "522a2446",
   "metadata": {
    "id": "rgSbVJvomcVa",
    "papermill": {
     "duration": 0.005822,
     "end_time": "2023-05-10T21:11:49.003968",
     "exception": false,
     "start_time": "2023-05-10T21:11:48.998146",
     "status": "completed"
    },
    "tags": []
   },
   "source": [
    "# Course 2 End-of-course project: Inspect and analyze data\n",
    "\n",
    "In this activity, you will examine data provided and prepare it for analysis.  \n",
    "<br/>   \n",
    "\n",
    "**The purpose** of this project is to investigate and understand the data provided.\n",
    "  \n",
    "**The goal** is to use a dataframe contructed within Python, perform a cursory inspection of the provided dataset, and inform team members of your findings. \n",
    "<br/>  \n",
    "*This activity has three parts:*\n",
    "\n",
    "**Part 1:** Understand the situation \n",
    "* How can you best prepare to understand and organize the provided taxi cab information?\n",
    "\n",
    "**Part 2:** Understand the data\n",
    "\n",
    "* Create a pandas dataframe for data learning, future exploratory data analysis (EDA), and statistical activities.\n",
    "\n",
    "* Compile summary information about the data to inform next steps.\n",
    "\n",
    "**Part 3:** Understand the variables\n",
    "\n",
    "* Use insights from your examination of the summary data to guide deeper investigation into specific variables.\n",
    "\n",
    "\n",
    "<br/> \n",
    "Follow the instructions and answer the following questions to complete the activity. Then, you will complete an Executive Summary using the questions listed on the PACE Strategy Document.\n",
    "\n",
    "Be sure to complete this activity before moving on. The next course item will provide you with a completed exemplar to compare to your own work. \n",
    "\n"
   ]
  },
  {
   "cell_type": "markdown",
   "id": "7bcf4685",
   "metadata": {
    "id": "HjFGokxv2pc5",
    "papermill": {
     "duration": 0.005836,
     "end_time": "2023-05-10T21:11:49.016121",
     "exception": false,
     "start_time": "2023-05-10T21:11:49.010285",
     "status": "completed"
    },
    "tags": []
   },
   "source": [
    "# **Identify data types and relevant variables using Python**\n"
   ]
  },
  {
   "cell_type": "markdown",
   "id": "5cf1eea9",
   "metadata": {
    "id": "i54DhoTln2Sb",
    "papermill": {
     "duration": 0.006436,
     "end_time": "2023-05-10T21:11:49.029045",
     "exception": false,
     "start_time": "2023-05-10T21:11:49.022609",
     "status": "completed"
    },
    "tags": []
   },
   "source": [
    "### **Exercise Instructions:**\n"
   ]
  },
  {
   "cell_type": "markdown",
   "id": "cee8c8f5",
   "metadata": {
    "id": "-yJ7-1vdrS2D",
    "papermill": {
     "duration": 0.005863,
     "end_time": "2023-05-10T21:11:49.041045",
     "exception": false,
     "start_time": "2023-05-10T21:11:49.035182",
     "status": "completed"
    },
    "tags": []
   },
   "source": [
    "**Complete the following step-by-step instructions to inspect and analyze this NYC taxi dataset.**\n",
    "\n",
    "This activity will help ensure the information is,\n",
    "\n",
    "1.   Ready to answer questions and yield insights\n",
    "\n",
    "2.   Ready for visualizations\n",
    "\n",
    "3.   Ready for future hypothesis testing and statistical methods\n",
    "\n",
    "**Follow the instructions and answer questions to complete this activity. Afterward,**\n",
    "\n",
    "1.   Use the structured notebook provided to help you in this project. Please complete the questions inside and prepare a summary for the data team.\n",
    "\n",
    "2.  Consider the questions presented  in the [Course 2 PACE strategy document](https://docs.google.com/document/d/1JM7h5MAQkD9uxoUhgpVBeT5R15y85LRaMo30I7bIFdk/template/preview).\n",
    "\n",
    "3. Write a short Executive Summary using your findings.\n",
    "\n",
    "4.   Compare your data insights with the provided exemplar to confirm of your approach and results.\n"
   ]
  },
  {
   "cell_type": "markdown",
   "id": "08f25061",
   "metadata": {
    "id": "MRUYfzCb4vop",
    "papermill": {
     "duration": 0.005834,
     "end_time": "2023-05-10T21:11:49.053061",
     "exception": false,
     "start_time": "2023-05-10T21:11:49.047227",
     "status": "completed"
    },
    "tags": []
   },
   "source": [
    "Throughout these project notebooks, you'll see references to the problem-solving framework PACE. The following notebook components are labeled with the respective PACE stage: Plan, Analyze, Construct, and Execute.\n",
    "\n",
    "## **PACE stages** \n",
    "\n",
    "\n",
    "\n",
    "\n",
    "   * [Plan](#plan)\n",
    "   * [Analyze](#analyze)\n",
    "   * [Construct](#construct)\n",
    "   * [Execute](#execute)"
   ]
  },
  {
   "cell_type": "markdown",
   "id": "8e1a41ab",
   "metadata": {
    "id": "zRHb2QQWj99m",
    "papermill": {
     "duration": 0.005933,
     "end_time": "2023-05-10T21:11:49.065140",
     "exception": false,
     "start_time": "2023-05-10T21:11:49.059207",
     "status": "completed"
    },
    "tags": []
   },
   "source": [
    "<a id=\"plan\"></a>\n",
    "\n",
    "\n",
    "## PACE: **Plan**"
   ]
  },
  {
   "cell_type": "markdown",
   "id": "25b47154",
   "metadata": {
    "id": "pWEfG5zJV5oG",
    "papermill": {
     "duration": 0.005889,
     "end_time": "2023-05-10T21:11:49.077183",
     "exception": false,
     "start_time": "2023-05-10T21:11:49.071294",
     "status": "completed"
    },
    "tags": []
   },
   "source": [
    "### **Task 1. Understand the situation**\n",
    "\n",
    "*   How can you best prepare to understand and organize the provided taxi cab information? "
   ]
  },
  {
   "cell_type": "markdown",
   "id": "8caf9373",
   "metadata": {
    "papermill": {
     "duration": 0.005876,
     "end_time": "2023-05-10T21:11:49.089402",
     "exception": false,
     "start_time": "2023-05-10T21:11:49.083526",
     "status": "completed"
    },
    "tags": []
   },
   "source": [
    "Read it thoroughly and underline important phrases/tasks and start working on them."
   ]
  },
  {
   "cell_type": "markdown",
   "id": "d7e2d8ed",
   "metadata": {
    "id": "1E9Y5aC0IAA-",
    "papermill": {
     "duration": 0.006312,
     "end_time": "2023-05-10T21:11:49.102389",
     "exception": false,
     "start_time": "2023-05-10T21:11:49.096077",
     "status": "completed"
    },
    "tags": []
   },
   "source": [
    "<a id=\"analyze\"></a>\n",
    "\n",
    "## PACE: **Analyze**"
   ]
  },
  {
   "cell_type": "markdown",
   "id": "6d22b7b9",
   "metadata": {
    "id": "L6KgK-M8o3we",
    "papermill": {
     "duration": 0.005847,
     "end_time": "2023-05-10T21:11:49.114884",
     "exception": false,
     "start_time": "2023-05-10T21:11:49.109037",
     "status": "completed"
    },
    "tags": []
   },
   "source": [
    "### **Task 2a. Build dataframe**\n",
    "\n",
    "\n",
    "\n",
    "\n",
    "\n",
    "\n",
    "\n",
    "\n",
    "\n",
    "\n",
    "\n",
    "\n",
    "\n",
    "\n"
   ]
  },
  {
   "cell_type": "markdown",
   "id": "3c4d468a",
   "metadata": {
    "id": "D4WK_AxP_S__",
    "papermill": {
     "duration": 0.006379,
     "end_time": "2023-05-10T21:11:49.127494",
     "exception": false,
     "start_time": "2023-05-10T21:11:49.121115",
     "status": "completed"
    },
    "tags": []
   },
   "source": [
    "Create a pandas dataframe for data learning, exploratory data analysis (EDA), and statistical activities.\n",
    "\n",
    "**Code the following,**\n",
    "\n",
    "*   import pandas as pd               #library exercise for buidling dataframes\n",
    "\n",
    "*   import numpy as np                #numpy is imported with pandas\n",
    "\n",
    "*   df = pd.read_csv('2017_Yellow_Taxi_Trip_Data.csv')\n",
    "\n",
    "**Note:** pair the data object name \"df\" with pandas functions to manipulate data, such as df.groupby().\n",
    "\n",
    "**Note:** As shown in this cell, the dataset has been automatically loaded in for you. You do not need to download the .csv file, or provide more code, in order to access the dataset and proceed with this lab. Please continue with this activity by completing the following instructions."
   ]
  },
  {
   "cell_type": "code",
   "execution_count": 2,
   "id": "f86f0da0",
   "metadata": {
    "execution": {
     "iopub.execute_input": "2023-05-10T21:11:49.142389Z",
     "iopub.status.busy": "2023-05-10T21:11:49.141815Z",
     "iopub.status.idle": "2023-05-10T21:11:49.306467Z",
     "shell.execute_reply": "2023-05-10T21:11:49.305601Z"
    },
    "id": "OZSXM4q5zrQh",
    "papermill": {
     "duration": 0.174868,
     "end_time": "2023-05-10T21:11:49.308952",
     "exception": false,
     "start_time": "2023-05-10T21:11:49.134084",
     "status": "completed"
    },
    "tags": []
   },
   "outputs": [],
   "source": [
    "#==> ENTER YOUR CODE HERE\n",
    "import pandas as pd\n",
    "import numpy as np\n",
    "import matplotlib.pyplot as plt\n",
    "\n",
    "df = pd.read_csv(\"D:/Pulkit/2017 Class-XII/Jupyter/Google Advanced Data Analytics Professional Certificate/\" + \\\n",
    "                 \"2 - Get Started with Python/2017_Yellow_Taxi_Trip_Data.csv\", low_memory=False)"
   ]
  },
  {
   "cell_type": "markdown",
   "id": "3ccca3cb",
   "metadata": {
    "id": "gYx1emvno7U_",
    "papermill": {
     "duration": 0.006489,
     "end_time": "2023-05-10T21:11:49.322092",
     "exception": false,
     "start_time": "2023-05-10T21:11:49.315603",
     "status": "completed"
    },
    "tags": []
   },
   "source": [
    "### **Task 2b. Understand the data - Inspect the data**\n",
    "\n",
    "View and inspect summary information about the dataframe by coding the following:\n",
    "\n",
    "1. df.head(10)\n",
    "2. df.info()\n",
    "3. df.describe()\n",
    "\n",
    "Consider the following two questions:\n",
    "\n",
    "**Question 1:** When reviewing the df.info() output, what do you notice about the different variables? Are there any null values? Are all of the variables numeric? Does anything else stand out?\n",
    "\n",
    "**Question 2:** When reviewing the df.describe() output, what do you notice about the distributions of each variable? Are there any questionable values?"
   ]
  },
  {
   "cell_type": "markdown",
   "id": "b00c76a4",
   "metadata": {
    "papermill": {
     "duration": 0.006188,
     "end_time": "2023-05-10T21:11:49.334832",
     "exception": false,
     "start_time": "2023-05-10T21:11:49.328644",
     "status": "completed"
    },
    "tags": []
   },
   "source": [
    "**Ans 1:** Many variables ar of type object. This means they might contain mixed data types. Yes there are some null values. Not all variables are numeric.\n",
    "\n",
    "**Ans 2:** Distance of ride was 0 for some rides ie they didn't move at all."
   ]
  },
  {
   "cell_type": "code",
   "execution_count": 4,
   "id": "68820770",
   "metadata": {},
   "outputs": [],
   "source": [
    "df.drop(df.index[-5:], inplace=True)"
   ]
  },
  {
   "cell_type": "code",
   "execution_count": 6,
   "id": "4701bcd1",
   "metadata": {
    "execution": {
     "iopub.execute_input": "2023-05-10T21:11:49.350180Z",
     "iopub.status.busy": "2023-05-10T21:11:49.349571Z",
     "iopub.status.idle": "2023-05-10T21:11:49.353077Z",
     "shell.execute_reply": "2023-05-10T21:11:49.352318Z"
    },
    "id": "t7Nck2hh4R6J",
    "papermill": {
     "duration": 0.013772,
     "end_time": "2023-05-10T21:11:49.355048",
     "exception": false,
     "start_time": "2023-05-10T21:11:49.341276",
     "status": "completed"
    },
    "tags": []
   },
   "outputs": [],
   "source": [
    "#df.rename(columns={'Unnamed: 0':'TripId'},inplace=True)\n",
    "df = df.convert_dtypes()"
   ]
  },
  {
   "cell_type": "code",
   "execution_count": 7,
   "id": "6b3b45f0",
   "metadata": {},
   "outputs": [
    {
     "data": {
      "text/html": [
       "<div>\n",
       "<style scoped>\n",
       "    .dataframe tbody tr th:only-of-type {\n",
       "        vertical-align: middle;\n",
       "    }\n",
       "\n",
       "    .dataframe tbody tr th {\n",
       "        vertical-align: top;\n",
       "    }\n",
       "\n",
       "    .dataframe thead th {\n",
       "        text-align: right;\n",
       "    }\n",
       "</style>\n",
       "<table border=\"1\" class=\"dataframe\">\n",
       "  <thead>\n",
       "    <tr style=\"text-align: right;\">\n",
       "      <th></th>\n",
       "      <th>VendorID</th>\n",
       "      <th>tpep_pickup_datetime</th>\n",
       "      <th>tpep_dropoff_datetime</th>\n",
       "      <th>passenger_count</th>\n",
       "      <th>trip_distance</th>\n",
       "      <th>RatecodeID</th>\n",
       "      <th>store_and_fwd_flag</th>\n",
       "      <th>PULocationID</th>\n",
       "      <th>DOLocationID</th>\n",
       "      <th>payment_type</th>\n",
       "      <th>fare_amount</th>\n",
       "      <th>extra</th>\n",
       "      <th>mta_tax</th>\n",
       "      <th>tip_amount</th>\n",
       "      <th>tolls_amount</th>\n",
       "      <th>improvement_surcharge</th>\n",
       "      <th>total_amount</th>\n",
       "    </tr>\n",
       "  </thead>\n",
       "  <tbody>\n",
       "    <tr>\n",
       "      <th>0</th>\n",
       "      <td>1</td>\n",
       "      <td>01/09/2017 11:13:28 AM</td>\n",
       "      <td>01/09/2017 11:25:45 AM</td>\n",
       "      <td>1</td>\n",
       "      <td>3.3</td>\n",
       "      <td>1</td>\n",
       "      <td>N</td>\n",
       "      <td>263</td>\n",
       "      <td>161</td>\n",
       "      <td>1</td>\n",
       "      <td>12.5</td>\n",
       "      <td>0.0</td>\n",
       "      <td>0.5</td>\n",
       "      <td>2.0</td>\n",
       "      <td>0.0</td>\n",
       "      <td>0.3</td>\n",
       "      <td>15.3</td>\n",
       "    </tr>\n",
       "    <tr>\n",
       "      <th>1</th>\n",
       "      <td>1</td>\n",
       "      <td>01/09/2017 11:32:27 AM</td>\n",
       "      <td>01/09/2017 11:36:01 AM</td>\n",
       "      <td>1</td>\n",
       "      <td>0.9</td>\n",
       "      <td>1</td>\n",
       "      <td>N</td>\n",
       "      <td>186</td>\n",
       "      <td>234</td>\n",
       "      <td>1</td>\n",
       "      <td>5.0</td>\n",
       "      <td>0.0</td>\n",
       "      <td>0.5</td>\n",
       "      <td>1.45</td>\n",
       "      <td>0.0</td>\n",
       "      <td>0.3</td>\n",
       "      <td>7.25</td>\n",
       "    </tr>\n",
       "    <tr>\n",
       "      <th>2</th>\n",
       "      <td>1</td>\n",
       "      <td>01/09/2017 11:38:20 AM</td>\n",
       "      <td>01/09/2017 11:42:05 AM</td>\n",
       "      <td>1</td>\n",
       "      <td>1.1</td>\n",
       "      <td>1</td>\n",
       "      <td>N</td>\n",
       "      <td>164</td>\n",
       "      <td>161</td>\n",
       "      <td>1</td>\n",
       "      <td>5.5</td>\n",
       "      <td>0.0</td>\n",
       "      <td>0.5</td>\n",
       "      <td>1.0</td>\n",
       "      <td>0.0</td>\n",
       "      <td>0.3</td>\n",
       "      <td>7.3</td>\n",
       "    </tr>\n",
       "    <tr>\n",
       "      <th>3</th>\n",
       "      <td>1</td>\n",
       "      <td>01/09/2017 11:52:13 AM</td>\n",
       "      <td>01/09/2017 11:57:36 AM</td>\n",
       "      <td>1</td>\n",
       "      <td>1.1</td>\n",
       "      <td>1</td>\n",
       "      <td>N</td>\n",
       "      <td>236</td>\n",
       "      <td>75</td>\n",
       "      <td>1</td>\n",
       "      <td>6.0</td>\n",
       "      <td>0.0</td>\n",
       "      <td>0.5</td>\n",
       "      <td>1.7</td>\n",
       "      <td>0.0</td>\n",
       "      <td>0.3</td>\n",
       "      <td>8.5</td>\n",
       "    </tr>\n",
       "    <tr>\n",
       "      <th>4</th>\n",
       "      <td>2</td>\n",
       "      <td>01/01/2017 12:00:00 AM</td>\n",
       "      <td>01/01/2017 12:00:00 AM</td>\n",
       "      <td>1</td>\n",
       "      <td>0.02</td>\n",
       "      <td>2</td>\n",
       "      <td>N</td>\n",
       "      <td>249</td>\n",
       "      <td>234</td>\n",
       "      <td>2</td>\n",
       "      <td>52.0</td>\n",
       "      <td>0.0</td>\n",
       "      <td>0.5</td>\n",
       "      <td>0.0</td>\n",
       "      <td>0.0</td>\n",
       "      <td>0.3</td>\n",
       "      <td>52.8</td>\n",
       "    </tr>\n",
       "  </tbody>\n",
       "</table>\n",
       "</div>"
      ],
      "text/plain": [
       "  VendorID    tpep_pickup_datetime   tpep_dropoff_datetime  passenger_count  \\\n",
       "0        1  01/09/2017 11:13:28 AM  01/09/2017 11:25:45 AM                1   \n",
       "1        1  01/09/2017 11:32:27 AM  01/09/2017 11:36:01 AM                1   \n",
       "2        1  01/09/2017 11:38:20 AM  01/09/2017 11:42:05 AM                1   \n",
       "3        1  01/09/2017 11:52:13 AM  01/09/2017 11:57:36 AM                1   \n",
       "4        2  01/01/2017 12:00:00 AM  01/01/2017 12:00:00 AM                1   \n",
       "\n",
       "   trip_distance  RatecodeID store_and_fwd_flag  PULocationID  DOLocationID  \\\n",
       "0            3.3           1                  N           263           161   \n",
       "1            0.9           1                  N           186           234   \n",
       "2            1.1           1                  N           164           161   \n",
       "3            1.1           1                  N           236            75   \n",
       "4           0.02           2                  N           249           234   \n",
       "\n",
       "   payment_type  fare_amount  extra  mta_tax  tip_amount  tolls_amount  \\\n",
       "0             1         12.5    0.0      0.5         2.0           0.0   \n",
       "1             1          5.0    0.0      0.5        1.45           0.0   \n",
       "2             1          5.5    0.0      0.5         1.0           0.0   \n",
       "3             1          6.0    0.0      0.5         1.7           0.0   \n",
       "4             2         52.0    0.0      0.5         0.0           0.0   \n",
       "\n",
       "   improvement_surcharge  total_amount  \n",
       "0                    0.3          15.3  \n",
       "1                    0.3          7.25  \n",
       "2                    0.3           7.3  \n",
       "3                    0.3           8.5  \n",
       "4                    0.3          52.8  "
      ]
     },
     "execution_count": 7,
     "metadata": {},
     "output_type": "execute_result"
    }
   ],
   "source": [
    "df.head(5)"
   ]
  },
  {
   "cell_type": "code",
   "execution_count": 9,
   "id": "21cf1b2b",
   "metadata": {},
   "outputs": [],
   "source": [
    "df['VendorID'] = df['VendorID'].astype(int)#df[['VendorID']].apply(pd.to_numeric)"
   ]
  },
  {
   "cell_type": "code",
   "execution_count": 14,
   "id": "2f62e920",
   "metadata": {
    "execution": {
     "iopub.execute_input": "2023-05-10T21:11:49.370204Z",
     "iopub.status.busy": "2023-05-10T21:11:49.369611Z",
     "iopub.status.idle": "2023-05-10T21:11:49.373082Z",
     "shell.execute_reply": "2023-05-10T21:11:49.372316Z"
    },
    "id": "3NctoTSAvGGD",
    "papermill": {
     "duration": 0.013449,
     "end_time": "2023-05-10T21:11:49.375110",
     "exception": false,
     "start_time": "2023-05-10T21:11:49.361661",
     "status": "completed"
    },
    "tags": []
   },
   "outputs": [
    {
     "name": "stdout",
     "output_type": "stream",
     "text": [
      "<class 'pandas.core.frame.DataFrame'>\n",
      "RangeIndex: 5161674 entries, 0 to 5161673\n",
      "Data columns (total 17 columns):\n",
      " #   Column                 Non-Null Count    Dtype  \n",
      "---  ------                 --------------    -----  \n",
      " 0   VendorID               5161674 non-null  int64  \n",
      " 1   tpep_pickup_datetime   5161674 non-null  string \n",
      " 2   tpep_dropoff_datetime  5161674 non-null  string \n",
      " 3   passenger_count        5161674 non-null  Int64  \n",
      " 4   trip_distance          5161674 non-null  Float64\n",
      " 5   RatecodeID             5161674 non-null  Int64  \n",
      " 6   store_and_fwd_flag     5161674 non-null  string \n",
      " 7   PULocationID           5161674 non-null  Int64  \n",
      " 8   DOLocationID           5161674 non-null  Int64  \n",
      " 9   payment_type           5161674 non-null  Int64  \n",
      " 10  fare_amount            5161674 non-null  Float64\n",
      " 11  extra                  5161674 non-null  Float64\n",
      " 12  mta_tax                5161674 non-null  Float64\n",
      " 13  tip_amount             5161674 non-null  Float64\n",
      " 14  tolls_amount           5161674 non-null  Float64\n",
      " 15  improvement_surcharge  5161674 non-null  Float64\n",
      " 16  total_amount           5161674 non-null  Float64\n",
      "dtypes: Float64(8), Int64(5), int64(1), string(3)\n",
      "memory usage: 733.5 MB\n"
     ]
    }
   ],
   "source": [
    "df.info(verbose = True, show_counts = True)"
   ]
  },
  {
   "cell_type": "code",
   "execution_count": 15,
   "id": "81949dff",
   "metadata": {
    "execution": {
     "iopub.execute_input": "2023-05-10T21:11:49.390497Z",
     "iopub.status.busy": "2023-05-10T21:11:49.389865Z",
     "iopub.status.idle": "2023-05-10T21:11:49.460604Z",
     "shell.execute_reply": "2023-05-10T21:11:49.459533Z"
    },
    "papermill": {
     "duration": 0.081433,
     "end_time": "2023-05-10T21:11:49.463191",
     "exception": false,
     "start_time": "2023-05-10T21:11:49.381758",
     "status": "completed"
    },
    "tags": []
   },
   "outputs": [
    {
     "data": {
      "text/html": [
       "<div>\n",
       "<style scoped>\n",
       "    .dataframe tbody tr th:only-of-type {\n",
       "        vertical-align: middle;\n",
       "    }\n",
       "\n",
       "    .dataframe tbody tr th {\n",
       "        vertical-align: top;\n",
       "    }\n",
       "\n",
       "    .dataframe thead th {\n",
       "        text-align: right;\n",
       "    }\n",
       "</style>\n",
       "<table border=\"1\" class=\"dataframe\">\n",
       "  <thead>\n",
       "    <tr style=\"text-align: right;\">\n",
       "      <th></th>\n",
       "      <th>VendorID</th>\n",
       "      <th>passenger_count</th>\n",
       "      <th>trip_distance</th>\n",
       "      <th>RatecodeID</th>\n",
       "      <th>PULocationID</th>\n",
       "      <th>DOLocationID</th>\n",
       "      <th>payment_type</th>\n",
       "      <th>fare_amount</th>\n",
       "      <th>extra</th>\n",
       "      <th>mta_tax</th>\n",
       "      <th>tip_amount</th>\n",
       "      <th>tolls_amount</th>\n",
       "      <th>improvement_surcharge</th>\n",
       "      <th>total_amount</th>\n",
       "    </tr>\n",
       "  </thead>\n",
       "  <tbody>\n",
       "    <tr>\n",
       "      <th>count</th>\n",
       "      <td>5.161674e+06</td>\n",
       "      <td>5.161674e+06</td>\n",
       "      <td>5.161674e+06</td>\n",
       "      <td>5.161674e+06</td>\n",
       "      <td>5.161674e+06</td>\n",
       "      <td>5.161674e+06</td>\n",
       "      <td>5.161674e+06</td>\n",
       "      <td>5.161674e+06</td>\n",
       "      <td>5.161674e+06</td>\n",
       "      <td>5.161674e+06</td>\n",
       "      <td>5.161674e+06</td>\n",
       "      <td>5.161674e+06</td>\n",
       "      <td>5.161674e+06</td>\n",
       "      <td>5.161674e+06</td>\n",
       "    </tr>\n",
       "    <tr>\n",
       "      <th>mean</th>\n",
       "      <td>1.548962e+00</td>\n",
       "      <td>1.640967e+00</td>\n",
       "      <td>2.847672e+00</td>\n",
       "      <td>1.041182e+00</td>\n",
       "      <td>1.636761e+02</td>\n",
       "      <td>1.614132e+02</td>\n",
       "      <td>1.350828e+00</td>\n",
       "      <td>1.249343e+01</td>\n",
       "      <td>3.124732e-01</td>\n",
       "      <td>4.974523e-01</td>\n",
       "      <td>1.711563e+00</td>\n",
       "      <td>2.771385e-01</td>\n",
       "      <td>2.996759e-01</td>\n",
       "      <td>1.559609e+01</td>\n",
       "    </tr>\n",
       "    <tr>\n",
       "      <th>std</th>\n",
       "      <td>4.975970e-01</td>\n",
       "      <td>1.277358e+00</td>\n",
       "      <td>3.672716e+00</td>\n",
       "      <td>5.037983e-01</td>\n",
       "      <td>6.689061e+01</td>\n",
       "      <td>7.094882e+01</td>\n",
       "      <td>4.956387e-01</td>\n",
       "      <td>3.636425e+02</td>\n",
       "      <td>4.327618e-01</td>\n",
       "      <td>4.645455e-02</td>\n",
       "      <td>2.531743e+00</td>\n",
       "      <td>1.626700e+00</td>\n",
       "      <td>1.350683e-02</td>\n",
       "      <td>3.637255e+02</td>\n",
       "    </tr>\n",
       "    <tr>\n",
       "      <th>min</th>\n",
       "      <td>1.000000e+00</td>\n",
       "      <td>0.000000e+00</td>\n",
       "      <td>0.000000e+00</td>\n",
       "      <td>1.000000e+00</td>\n",
       "      <td>1.000000e+00</td>\n",
       "      <td>1.000000e+00</td>\n",
       "      <td>1.000000e+00</td>\n",
       "      <td>-3.000000e+02</td>\n",
       "      <td>-5.520000e+01</td>\n",
       "      <td>-5.000000e-01</td>\n",
       "      <td>-2.506000e+01</td>\n",
       "      <td>-1.450000e+01</td>\n",
       "      <td>-3.000000e-01</td>\n",
       "      <td>-3.003000e+02</td>\n",
       "    </tr>\n",
       "    <tr>\n",
       "      <th>25%</th>\n",
       "      <td>1.000000e+00</td>\n",
       "      <td>1.000000e+00</td>\n",
       "      <td>9.500000e-01</td>\n",
       "      <td>1.000000e+00</td>\n",
       "      <td>1.140000e+02</td>\n",
       "      <td>1.070000e+02</td>\n",
       "      <td>1.000000e+00</td>\n",
       "      <td>6.000000e+00</td>\n",
       "      <td>0.000000e+00</td>\n",
       "      <td>5.000000e-01</td>\n",
       "      <td>0.000000e+00</td>\n",
       "      <td>0.000000e+00</td>\n",
       "      <td>3.000000e-01</td>\n",
       "      <td>8.160000e+00</td>\n",
       "    </tr>\n",
       "    <tr>\n",
       "      <th>50%</th>\n",
       "      <td>2.000000e+00</td>\n",
       "      <td>1.000000e+00</td>\n",
       "      <td>1.600000e+00</td>\n",
       "      <td>1.000000e+00</td>\n",
       "      <td>1.620000e+02</td>\n",
       "      <td>1.620000e+02</td>\n",
       "      <td>1.000000e+00</td>\n",
       "      <td>9.000000e+00</td>\n",
       "      <td>0.000000e+00</td>\n",
       "      <td>5.000000e-01</td>\n",
       "      <td>1.250000e+00</td>\n",
       "      <td>0.000000e+00</td>\n",
       "      <td>3.000000e-01</td>\n",
       "      <td>1.116000e+01</td>\n",
       "    </tr>\n",
       "    <tr>\n",
       "      <th>75%</th>\n",
       "      <td>2.000000e+00</td>\n",
       "      <td>2.000000e+00</td>\n",
       "      <td>2.950000e+00</td>\n",
       "      <td>1.000000e+00</td>\n",
       "      <td>2.330000e+02</td>\n",
       "      <td>2.340000e+02</td>\n",
       "      <td>2.000000e+00</td>\n",
       "      <td>1.350000e+01</td>\n",
       "      <td>5.000000e-01</td>\n",
       "      <td>5.000000e-01</td>\n",
       "      <td>2.250000e+00</td>\n",
       "      <td>0.000000e+00</td>\n",
       "      <td>3.000000e-01</td>\n",
       "      <td>1.656000e+01</td>\n",
       "    </tr>\n",
       "    <tr>\n",
       "      <th>max</th>\n",
       "      <td>2.000000e+00</td>\n",
       "      <td>9.000000e+00</td>\n",
       "      <td>2.647100e+02</td>\n",
       "      <td>9.900000e+01</td>\n",
       "      <td>2.650000e+02</td>\n",
       "      <td>2.650000e+02</td>\n",
       "      <td>4.000000e+00</td>\n",
       "      <td>6.259008e+05</td>\n",
       "      <td>5.554000e+01</td>\n",
       "      <td>5.650000e+01</td>\n",
       "      <td>9.999900e+02</td>\n",
       "      <td>9.055400e+02</td>\n",
       "      <td>3.000000e-01</td>\n",
       "      <td>6.259016e+05</td>\n",
       "    </tr>\n",
       "  </tbody>\n",
       "</table>\n",
       "</div>"
      ],
      "text/plain": [
       "           VendorID  passenger_count  trip_distance    RatecodeID  \\\n",
       "count  5.161674e+06     5.161674e+06   5.161674e+06  5.161674e+06   \n",
       "mean   1.548962e+00     1.640967e+00   2.847672e+00  1.041182e+00   \n",
       "std    4.975970e-01     1.277358e+00   3.672716e+00  5.037983e-01   \n",
       "min    1.000000e+00     0.000000e+00   0.000000e+00  1.000000e+00   \n",
       "25%    1.000000e+00     1.000000e+00   9.500000e-01  1.000000e+00   \n",
       "50%    2.000000e+00     1.000000e+00   1.600000e+00  1.000000e+00   \n",
       "75%    2.000000e+00     2.000000e+00   2.950000e+00  1.000000e+00   \n",
       "max    2.000000e+00     9.000000e+00   2.647100e+02  9.900000e+01   \n",
       "\n",
       "       PULocationID  DOLocationID  payment_type   fare_amount         extra  \\\n",
       "count  5.161674e+06  5.161674e+06  5.161674e+06  5.161674e+06  5.161674e+06   \n",
       "mean   1.636761e+02  1.614132e+02  1.350828e+00  1.249343e+01  3.124732e-01   \n",
       "std    6.689061e+01  7.094882e+01  4.956387e-01  3.636425e+02  4.327618e-01   \n",
       "min    1.000000e+00  1.000000e+00  1.000000e+00 -3.000000e+02 -5.520000e+01   \n",
       "25%    1.140000e+02  1.070000e+02  1.000000e+00  6.000000e+00  0.000000e+00   \n",
       "50%    1.620000e+02  1.620000e+02  1.000000e+00  9.000000e+00  0.000000e+00   \n",
       "75%    2.330000e+02  2.340000e+02  2.000000e+00  1.350000e+01  5.000000e-01   \n",
       "max    2.650000e+02  2.650000e+02  4.000000e+00  6.259008e+05  5.554000e+01   \n",
       "\n",
       "            mta_tax    tip_amount  tolls_amount  improvement_surcharge  \\\n",
       "count  5.161674e+06  5.161674e+06  5.161674e+06           5.161674e+06   \n",
       "mean   4.974523e-01  1.711563e+00  2.771385e-01           2.996759e-01   \n",
       "std    4.645455e-02  2.531743e+00  1.626700e+00           1.350683e-02   \n",
       "min   -5.000000e-01 -2.506000e+01 -1.450000e+01          -3.000000e-01   \n",
       "25%    5.000000e-01  0.000000e+00  0.000000e+00           3.000000e-01   \n",
       "50%    5.000000e-01  1.250000e+00  0.000000e+00           3.000000e-01   \n",
       "75%    5.000000e-01  2.250000e+00  0.000000e+00           3.000000e-01   \n",
       "max    5.650000e+01  9.999900e+02  9.055400e+02           3.000000e-01   \n",
       "\n",
       "       total_amount  \n",
       "count  5.161674e+06  \n",
       "mean   1.559609e+01  \n",
       "std    3.637255e+02  \n",
       "min   -3.003000e+02  \n",
       "25%    8.160000e+00  \n",
       "50%    1.116000e+01  \n",
       "75%    1.656000e+01  \n",
       "max    6.259016e+05  "
      ]
     },
     "execution_count": 15,
     "metadata": {},
     "output_type": "execute_result"
    }
   ],
   "source": [
    "df.describe()"
   ]
  },
  {
   "cell_type": "markdown",
   "id": "6bdd3168",
   "metadata": {
    "id": "BMNnIoc51_1N",
    "papermill": {
     "duration": 0.00722,
     "end_time": "2023-05-10T21:11:49.477582",
     "exception": false,
     "start_time": "2023-05-10T21:11:49.470362",
     "status": "completed"
    },
    "tags": []
   },
   "source": [
    "### **Task 2c. Understand the data - Investigate the variables**\n",
    "\n",
    "Sort and interpret the data table for two variables:`trip_distance` and `total_amount`.\n",
    "\n",
    "**Answer the following three questions:**\n",
    "\n",
    "**Question 1:** Sort your first variable (`trip_distance`) from maximum to minimum value, do the values seem normal?\n",
    "\n",
    "**Question 2:** Sort your by your second variable (`total_amount`), are any values unusual?\n",
    "\n",
    "**Question 3:** Are the resulting rows similar for both sorts? Why or why not?"
   ]
  },
  {
   "cell_type": "markdown",
   "id": "a3d71e8a",
   "metadata": {
    "papermill": {
     "duration": 0.006772,
     "end_time": "2023-05-10T21:11:49.491591",
     "exception": false,
     "start_time": "2023-05-10T21:11:49.484819",
     "status": "completed"
    },
    "tags": []
   },
   "source": [
    "**Answer 1:** No the values contain NaN ie some values are null.\n",
    "\n",
    "**Answer 2:** Yes it contains some negative values and ride prices shouldn't be negative.\n",
    "\n",
    "**Answer 3:** The rows are similar but in different order due to different sorting conditions. "
   ]
  },
  {
   "cell_type": "code",
   "execution_count": 16,
   "id": "71781367",
   "metadata": {
    "execution": {
     "iopub.execute_input": "2023-05-10T21:11:49.507531Z",
     "iopub.status.busy": "2023-05-10T21:11:49.506960Z",
     "iopub.status.idle": "2023-05-10T21:11:49.545545Z",
     "shell.execute_reply": "2023-05-10T21:11:49.543805Z"
    },
    "papermill": {
     "duration": 0.050193,
     "end_time": "2023-05-10T21:11:49.548802",
     "exception": false,
     "start_time": "2023-05-10T21:11:49.498609",
     "status": "completed"
    },
    "tags": []
   },
   "outputs": [
    {
     "data": {
      "text/html": [
       "<div>\n",
       "<style scoped>\n",
       "    .dataframe tbody tr th:only-of-type {\n",
       "        vertical-align: middle;\n",
       "    }\n",
       "\n",
       "    .dataframe tbody tr th {\n",
       "        vertical-align: top;\n",
       "    }\n",
       "\n",
       "    .dataframe thead th {\n",
       "        text-align: right;\n",
       "    }\n",
       "</style>\n",
       "<table border=\"1\" class=\"dataframe\">\n",
       "  <thead>\n",
       "    <tr style=\"text-align: right;\">\n",
       "      <th></th>\n",
       "      <th>VendorID</th>\n",
       "      <th>tpep_pickup_datetime</th>\n",
       "      <th>tpep_dropoff_datetime</th>\n",
       "      <th>passenger_count</th>\n",
       "      <th>trip_distance</th>\n",
       "      <th>RatecodeID</th>\n",
       "      <th>store_and_fwd_flag</th>\n",
       "      <th>PULocationID</th>\n",
       "      <th>DOLocationID</th>\n",
       "      <th>payment_type</th>\n",
       "      <th>fare_amount</th>\n",
       "      <th>extra</th>\n",
       "      <th>mta_tax</th>\n",
       "      <th>tip_amount</th>\n",
       "      <th>tolls_amount</th>\n",
       "      <th>improvement_surcharge</th>\n",
       "      <th>total_amount</th>\n",
       "    </tr>\n",
       "  </thead>\n",
       "  <tbody>\n",
       "    <tr>\n",
       "      <th>3592713</th>\n",
       "      <td>2</td>\n",
       "      <td>01/04/2017 04:35:51 PM</td>\n",
       "      <td>01/04/2017 08:50:11 PM</td>\n",
       "      <td>1</td>\n",
       "      <td>264.71</td>\n",
       "      <td>5</td>\n",
       "      <td>N</td>\n",
       "      <td>219</td>\n",
       "      <td>265</td>\n",
       "      <td>1</td>\n",
       "      <td>400.0</td>\n",
       "      <td>0.0</td>\n",
       "      <td>0.0</td>\n",
       "      <td>0.0</td>\n",
       "      <td>67.58</td>\n",
       "      <td>0.3</td>\n",
       "      <td>467.88</td>\n",
       "    </tr>\n",
       "    <tr>\n",
       "      <th>1976348</th>\n",
       "      <td>1</td>\n",
       "      <td>01/06/2017 04:52:29 PM</td>\n",
       "      <td>01/06/2017 05:28:20 PM</td>\n",
       "      <td>3</td>\n",
       "      <td>173.2</td>\n",
       "      <td>2</td>\n",
       "      <td>N</td>\n",
       "      <td>132</td>\n",
       "      <td>233</td>\n",
       "      <td>2</td>\n",
       "      <td>3.0</td>\n",
       "      <td>5.5</td>\n",
       "      <td>0.5</td>\n",
       "      <td>0.0</td>\n",
       "      <td>0.0</td>\n",
       "      <td>0.3</td>\n",
       "      <td>9.3</td>\n",
       "    </tr>\n",
       "    <tr>\n",
       "      <th>2931738</th>\n",
       "      <td>2</td>\n",
       "      <td>01/02/2017 01:27:46 AM</td>\n",
       "      <td>01/02/2017 03:45:58 AM</td>\n",
       "      <td>1</td>\n",
       "      <td>156.17</td>\n",
       "      <td>5</td>\n",
       "      <td>N</td>\n",
       "      <td>156</td>\n",
       "      <td>265</td>\n",
       "      <td>1</td>\n",
       "      <td>400.0</td>\n",
       "      <td>0.0</td>\n",
       "      <td>0.5</td>\n",
       "      <td>0.0</td>\n",
       "      <td>24.24</td>\n",
       "      <td>0.3</td>\n",
       "      <td>425.04</td>\n",
       "    </tr>\n",
       "    <tr>\n",
       "      <th>484183</th>\n",
       "      <td>1</td>\n",
       "      <td>01/15/2017 02:12:28 PM</td>\n",
       "      <td>01/15/2017 06:09:11 PM</td>\n",
       "      <td>4</td>\n",
       "      <td>151.7</td>\n",
       "      <td>5</td>\n",
       "      <td>N</td>\n",
       "      <td>48</td>\n",
       "      <td>265</td>\n",
       "      <td>2</td>\n",
       "      <td>550.0</td>\n",
       "      <td>0.0</td>\n",
       "      <td>0.0</td>\n",
       "      <td>0.0</td>\n",
       "      <td>0.0</td>\n",
       "      <td>0.3</td>\n",
       "      <td>550.3</td>\n",
       "    </tr>\n",
       "    <tr>\n",
       "      <th>2916097</th>\n",
       "      <td>2</td>\n",
       "      <td>01/09/2017 02:03:57 AM</td>\n",
       "      <td>01/09/2017 04:57:26 AM</td>\n",
       "      <td>1</td>\n",
       "      <td>143.45</td>\n",
       "      <td>5</td>\n",
       "      <td>N</td>\n",
       "      <td>93</td>\n",
       "      <td>265</td>\n",
       "      <td>1</td>\n",
       "      <td>400.0</td>\n",
       "      <td>0.0</td>\n",
       "      <td>0.0</td>\n",
       "      <td>0.0</td>\n",
       "      <td>25.0</td>\n",
       "      <td>0.3</td>\n",
       "      <td>425.3</td>\n",
       "    </tr>\n",
       "    <tr>\n",
       "      <th>...</th>\n",
       "      <td>...</td>\n",
       "      <td>...</td>\n",
       "      <td>...</td>\n",
       "      <td>...</td>\n",
       "      <td>...</td>\n",
       "      <td>...</td>\n",
       "      <td>...</td>\n",
       "      <td>...</td>\n",
       "      <td>...</td>\n",
       "      <td>...</td>\n",
       "      <td>...</td>\n",
       "      <td>...</td>\n",
       "      <td>...</td>\n",
       "      <td>...</td>\n",
       "      <td>...</td>\n",
       "      <td>...</td>\n",
       "      <td>...</td>\n",
       "    </tr>\n",
       "    <tr>\n",
       "      <th>4943230</th>\n",
       "      <td>2</td>\n",
       "      <td>01/09/2017 11:53:37 PM</td>\n",
       "      <td>01/09/2017 11:53:41 PM</td>\n",
       "      <td>1</td>\n",
       "      <td>0.0</td>\n",
       "      <td>5</td>\n",
       "      <td>N</td>\n",
       "      <td>87</td>\n",
       "      <td>87</td>\n",
       "      <td>1</td>\n",
       "      <td>58.0</td>\n",
       "      <td>0.0</td>\n",
       "      <td>0.5</td>\n",
       "      <td>11.76</td>\n",
       "      <td>0.0</td>\n",
       "      <td>0.3</td>\n",
       "      <td>70.56</td>\n",
       "    </tr>\n",
       "    <tr>\n",
       "      <th>541388</th>\n",
       "      <td>2</td>\n",
       "      <td>01/15/2017 05:29:39 PM</td>\n",
       "      <td>01/15/2017 05:41:06 PM</td>\n",
       "      <td>1</td>\n",
       "      <td>0.0</td>\n",
       "      <td>1</td>\n",
       "      <td>N</td>\n",
       "      <td>249</td>\n",
       "      <td>87</td>\n",
       "      <td>1</td>\n",
       "      <td>2.5</td>\n",
       "      <td>0.0</td>\n",
       "      <td>0.5</td>\n",
       "      <td>0.0</td>\n",
       "      <td>0.0</td>\n",
       "      <td>0.3</td>\n",
       "      <td>3.3</td>\n",
       "    </tr>\n",
       "    <tr>\n",
       "      <th>3289724</th>\n",
       "      <td>2</td>\n",
       "      <td>01/03/2017 02:37:19 PM</td>\n",
       "      <td>01/03/2017 02:38:31 PM</td>\n",
       "      <td>1</td>\n",
       "      <td>0.0</td>\n",
       "      <td>5</td>\n",
       "      <td>N</td>\n",
       "      <td>264</td>\n",
       "      <td>264</td>\n",
       "      <td>1</td>\n",
       "      <td>204.75</td>\n",
       "      <td>0.0</td>\n",
       "      <td>0.0</td>\n",
       "      <td>41.01</td>\n",
       "      <td>0.0</td>\n",
       "      <td>0.3</td>\n",
       "      <td>246.06</td>\n",
       "    </tr>\n",
       "    <tr>\n",
       "      <th>2534164</th>\n",
       "      <td>1</td>\n",
       "      <td>01/07/2017 08:26:01 PM</td>\n",
       "      <td>01/07/2017 08:26:01 PM</td>\n",
       "      <td>1</td>\n",
       "      <td>0.0</td>\n",
       "      <td>1</td>\n",
       "      <td>N</td>\n",
       "      <td>231</td>\n",
       "      <td>264</td>\n",
       "      <td>2</td>\n",
       "      <td>10.5</td>\n",
       "      <td>0.5</td>\n",
       "      <td>0.5</td>\n",
       "      <td>0.0</td>\n",
       "      <td>0.0</td>\n",
       "      <td>0.3</td>\n",
       "      <td>11.8</td>\n",
       "    </tr>\n",
       "    <tr>\n",
       "      <th>2304156</th>\n",
       "      <td>2</td>\n",
       "      <td>01/07/2017 06:40:49 AM</td>\n",
       "      <td>01/07/2017 06:43:06 AM</td>\n",
       "      <td>1</td>\n",
       "      <td>0.0</td>\n",
       "      <td>1</td>\n",
       "      <td>N</td>\n",
       "      <td>89</td>\n",
       "      <td>89</td>\n",
       "      <td>2</td>\n",
       "      <td>3.0</td>\n",
       "      <td>0.0</td>\n",
       "      <td>0.5</td>\n",
       "      <td>0.0</td>\n",
       "      <td>0.0</td>\n",
       "      <td>0.3</td>\n",
       "      <td>3.8</td>\n",
       "    </tr>\n",
       "  </tbody>\n",
       "</table>\n",
       "<p>5161674 rows × 17 columns</p>\n",
       "</div>"
      ],
      "text/plain": [
       "         VendorID    tpep_pickup_datetime   tpep_dropoff_datetime  \\\n",
       "3592713         2  01/04/2017 04:35:51 PM  01/04/2017 08:50:11 PM   \n",
       "1976348         1  01/06/2017 04:52:29 PM  01/06/2017 05:28:20 PM   \n",
       "2931738         2  01/02/2017 01:27:46 AM  01/02/2017 03:45:58 AM   \n",
       "484183          1  01/15/2017 02:12:28 PM  01/15/2017 06:09:11 PM   \n",
       "2916097         2  01/09/2017 02:03:57 AM  01/09/2017 04:57:26 AM   \n",
       "...           ...                     ...                     ...   \n",
       "4943230         2  01/09/2017 11:53:37 PM  01/09/2017 11:53:41 PM   \n",
       "541388          2  01/15/2017 05:29:39 PM  01/15/2017 05:41:06 PM   \n",
       "3289724         2  01/03/2017 02:37:19 PM  01/03/2017 02:38:31 PM   \n",
       "2534164         1  01/07/2017 08:26:01 PM  01/07/2017 08:26:01 PM   \n",
       "2304156         2  01/07/2017 06:40:49 AM  01/07/2017 06:43:06 AM   \n",
       "\n",
       "         passenger_count  trip_distance  RatecodeID store_and_fwd_flag  \\\n",
       "3592713                1         264.71           5                  N   \n",
       "1976348                3          173.2           2                  N   \n",
       "2931738                1         156.17           5                  N   \n",
       "484183                 4          151.7           5                  N   \n",
       "2916097                1         143.45           5                  N   \n",
       "...                  ...            ...         ...                ...   \n",
       "4943230                1            0.0           5                  N   \n",
       "541388                 1            0.0           1                  N   \n",
       "3289724                1            0.0           5                  N   \n",
       "2534164                1            0.0           1                  N   \n",
       "2304156                1            0.0           1                  N   \n",
       "\n",
       "         PULocationID  DOLocationID  payment_type  fare_amount  extra  \\\n",
       "3592713           219           265             1        400.0    0.0   \n",
       "1976348           132           233             2          3.0    5.5   \n",
       "2931738           156           265             1        400.0    0.0   \n",
       "484183             48           265             2        550.0    0.0   \n",
       "2916097            93           265             1        400.0    0.0   \n",
       "...               ...           ...           ...          ...    ...   \n",
       "4943230            87            87             1         58.0    0.0   \n",
       "541388            249            87             1          2.5    0.0   \n",
       "3289724           264           264             1       204.75    0.0   \n",
       "2534164           231           264             2         10.5    0.5   \n",
       "2304156            89            89             2          3.0    0.0   \n",
       "\n",
       "         mta_tax  tip_amount  tolls_amount  improvement_surcharge  \\\n",
       "3592713      0.0         0.0         67.58                    0.3   \n",
       "1976348      0.5         0.0           0.0                    0.3   \n",
       "2931738      0.5         0.0         24.24                    0.3   \n",
       "484183       0.0         0.0           0.0                    0.3   \n",
       "2916097      0.0         0.0          25.0                    0.3   \n",
       "...          ...         ...           ...                    ...   \n",
       "4943230      0.5       11.76           0.0                    0.3   \n",
       "541388       0.5         0.0           0.0                    0.3   \n",
       "3289724      0.0       41.01           0.0                    0.3   \n",
       "2534164      0.5         0.0           0.0                    0.3   \n",
       "2304156      0.5         0.0           0.0                    0.3   \n",
       "\n",
       "         total_amount  \n",
       "3592713        467.88  \n",
       "1976348           9.3  \n",
       "2931738        425.04  \n",
       "484183          550.3  \n",
       "2916097         425.3  \n",
       "...               ...  \n",
       "4943230         70.56  \n",
       "541388            3.3  \n",
       "3289724        246.06  \n",
       "2534164          11.8  \n",
       "2304156           3.8  \n",
       "\n",
       "[5161674 rows x 17 columns]"
      ]
     },
     "execution_count": 16,
     "metadata": {},
     "output_type": "execute_result"
    }
   ],
   "source": [
    "df.sort_values('trip_distance', ascending=False)"
   ]
  },
  {
   "cell_type": "code",
   "execution_count": 17,
   "id": "cb246188",
   "metadata": {
    "execution": {
     "iopub.execute_input": "2023-05-10T21:11:49.568096Z",
     "iopub.status.busy": "2023-05-10T21:11:49.567710Z",
     "iopub.status.idle": "2023-05-10T21:11:49.572973Z",
     "shell.execute_reply": "2023-05-10T21:11:49.571552Z"
    },
    "papermill": {
     "duration": 0.017334,
     "end_time": "2023-05-10T21:11:49.575772",
     "exception": false,
     "start_time": "2023-05-10T21:11:49.558438",
     "status": "completed"
    },
    "tags": []
   },
   "outputs": [
    {
     "data": {
      "text/html": [
       "<div>\n",
       "<style scoped>\n",
       "    .dataframe tbody tr th:only-of-type {\n",
       "        vertical-align: middle;\n",
       "    }\n",
       "\n",
       "    .dataframe tbody tr th {\n",
       "        vertical-align: top;\n",
       "    }\n",
       "\n",
       "    .dataframe thead th {\n",
       "        text-align: right;\n",
       "    }\n",
       "</style>\n",
       "<table border=\"1\" class=\"dataframe\">\n",
       "  <thead>\n",
       "    <tr style=\"text-align: right;\">\n",
       "      <th></th>\n",
       "      <th>VendorID</th>\n",
       "      <th>tpep_pickup_datetime</th>\n",
       "      <th>tpep_dropoff_datetime</th>\n",
       "      <th>passenger_count</th>\n",
       "      <th>trip_distance</th>\n",
       "      <th>RatecodeID</th>\n",
       "      <th>store_and_fwd_flag</th>\n",
       "      <th>PULocationID</th>\n",
       "      <th>DOLocationID</th>\n",
       "      <th>payment_type</th>\n",
       "      <th>fare_amount</th>\n",
       "      <th>extra</th>\n",
       "      <th>mta_tax</th>\n",
       "      <th>tip_amount</th>\n",
       "      <th>tolls_amount</th>\n",
       "      <th>improvement_surcharge</th>\n",
       "      <th>total_amount</th>\n",
       "    </tr>\n",
       "  </thead>\n",
       "  <tbody>\n",
       "    <tr>\n",
       "      <th>3221372</th>\n",
       "      <td>2</td>\n",
       "      <td>01/03/2017 10:05:09 AM</td>\n",
       "      <td>01/03/2017 10:06:15 AM</td>\n",
       "      <td>1</td>\n",
       "      <td>0.0</td>\n",
       "      <td>5</td>\n",
       "      <td>N</td>\n",
       "      <td>258</td>\n",
       "      <td>258</td>\n",
       "      <td>3</td>\n",
       "      <td>-300.0</td>\n",
       "      <td>0.0</td>\n",
       "      <td>0.0</td>\n",
       "      <td>0.0</td>\n",
       "      <td>0.0</td>\n",
       "      <td>-0.3</td>\n",
       "      <td>-300.3</td>\n",
       "    </tr>\n",
       "    <tr>\n",
       "      <th>1638033</th>\n",
       "      <td>2</td>\n",
       "      <td>01/18/2017 08:32:37 PM</td>\n",
       "      <td>01/18/2017 08:35:12 PM</td>\n",
       "      <td>1</td>\n",
       "      <td>0.0</td>\n",
       "      <td>5</td>\n",
       "      <td>N</td>\n",
       "      <td>265</td>\n",
       "      <td>265</td>\n",
       "      <td>4</td>\n",
       "      <td>-169.0</td>\n",
       "      <td>0.0</td>\n",
       "      <td>0.0</td>\n",
       "      <td>0.0</td>\n",
       "      <td>0.0</td>\n",
       "      <td>-0.3</td>\n",
       "      <td>-169.3</td>\n",
       "    </tr>\n",
       "    <tr>\n",
       "      <th>5063271</th>\n",
       "      <td>2</td>\n",
       "      <td>01/10/2017 11:58:42 AM</td>\n",
       "      <td>01/10/2017 11:59:00 AM</td>\n",
       "      <td>1</td>\n",
       "      <td>0.11</td>\n",
       "      <td>5</td>\n",
       "      <td>N</td>\n",
       "      <td>244</td>\n",
       "      <td>244</td>\n",
       "      <td>4</td>\n",
       "      <td>-125.0</td>\n",
       "      <td>0.0</td>\n",
       "      <td>0.0</td>\n",
       "      <td>-25.06</td>\n",
       "      <td>0.0</td>\n",
       "      <td>-0.3</td>\n",
       "      <td>-150.36</td>\n",
       "    </tr>\n",
       "    <tr>\n",
       "      <th>174670</th>\n",
       "      <td>2</td>\n",
       "      <td>01/01/2017 05:00:21 AM</td>\n",
       "      <td>01/01/2017 05:02:20 AM</td>\n",
       "      <td>1</td>\n",
       "      <td>0.0</td>\n",
       "      <td>5</td>\n",
       "      <td>N</td>\n",
       "      <td>264</td>\n",
       "      <td>234</td>\n",
       "      <td>4</td>\n",
       "      <td>-120.0</td>\n",
       "      <td>0.0</td>\n",
       "      <td>0.0</td>\n",
       "      <td>0.0</td>\n",
       "      <td>0.0</td>\n",
       "      <td>-0.3</td>\n",
       "      <td>-120.3</td>\n",
       "    </tr>\n",
       "    <tr>\n",
       "      <th>1891388</th>\n",
       "      <td>2</td>\n",
       "      <td>01/06/2017 12:26:57 PM</td>\n",
       "      <td>01/06/2017 12:27:41 PM</td>\n",
       "      <td>1</td>\n",
       "      <td>0.11</td>\n",
       "      <td>5</td>\n",
       "      <td>N</td>\n",
       "      <td>265</td>\n",
       "      <td>265</td>\n",
       "      <td>3</td>\n",
       "      <td>-110.0</td>\n",
       "      <td>0.0</td>\n",
       "      <td>-0.5</td>\n",
       "      <td>0.0</td>\n",
       "      <td>0.0</td>\n",
       "      <td>-0.3</td>\n",
       "      <td>-110.8</td>\n",
       "    </tr>\n",
       "    <tr>\n",
       "      <th>...</th>\n",
       "      <td>...</td>\n",
       "      <td>...</td>\n",
       "      <td>...</td>\n",
       "      <td>...</td>\n",
       "      <td>...</td>\n",
       "      <td>...</td>\n",
       "      <td>...</td>\n",
       "      <td>...</td>\n",
       "      <td>...</td>\n",
       "      <td>...</td>\n",
       "      <td>...</td>\n",
       "      <td>...</td>\n",
       "      <td>...</td>\n",
       "      <td>...</td>\n",
       "      <td>...</td>\n",
       "      <td>...</td>\n",
       "      <td>...</td>\n",
       "    </tr>\n",
       "    <tr>\n",
       "      <th>3037936</th>\n",
       "      <td>1</td>\n",
       "      <td>01/02/2017 03:21:24 PM</td>\n",
       "      <td>01/02/2017 03:33:17 PM</td>\n",
       "      <td>3</td>\n",
       "      <td>6.0</td>\n",
       "      <td>1</td>\n",
       "      <td>N</td>\n",
       "      <td>163</td>\n",
       "      <td>230</td>\n",
       "      <td>3</td>\n",
       "      <td>3009.8</td>\n",
       "      <td>0.0</td>\n",
       "      <td>0.0</td>\n",
       "      <td>0.0</td>\n",
       "      <td>0.0</td>\n",
       "      <td>0.0</td>\n",
       "      <td>3009.8</td>\n",
       "    </tr>\n",
       "    <tr>\n",
       "      <th>1251049</th>\n",
       "      <td>1</td>\n",
       "      <td>01/18/2017 08:30:23 AM</td>\n",
       "      <td>01/18/2017 09:22:07 AM</td>\n",
       "      <td>1</td>\n",
       "      <td>15.9</td>\n",
       "      <td>1</td>\n",
       "      <td>N</td>\n",
       "      <td>264</td>\n",
       "      <td>264</td>\n",
       "      <td>4</td>\n",
       "      <td>8037.5</td>\n",
       "      <td>-3.59</td>\n",
       "      <td>4.39</td>\n",
       "      <td>0.0</td>\n",
       "      <td>5.54</td>\n",
       "      <td>0.0</td>\n",
       "      <td>8043.84</td>\n",
       "    </tr>\n",
       "    <tr>\n",
       "      <th>432743</th>\n",
       "      <td>2</td>\n",
       "      <td>01/15/2017 11:00:03 AM</td>\n",
       "      <td>01/15/2017 11:03:40 AM</td>\n",
       "      <td>1</td>\n",
       "      <td>0.0</td>\n",
       "      <td>1</td>\n",
       "      <td>N</td>\n",
       "      <td>237</td>\n",
       "      <td>141</td>\n",
       "      <td>2</td>\n",
       "      <td>9000.5</td>\n",
       "      <td>0.0</td>\n",
       "      <td>0.5</td>\n",
       "      <td>0.0</td>\n",
       "      <td>0.0</td>\n",
       "      <td>0.3</td>\n",
       "      <td>9001.3</td>\n",
       "    </tr>\n",
       "    <tr>\n",
       "      <th>127949</th>\n",
       "      <td>1</td>\n",
       "      <td>01/01/2017 02:15:10 AM</td>\n",
       "      <td>01/01/2017 02:57:09 AM</td>\n",
       "      <td>1</td>\n",
       "      <td>0.0</td>\n",
       "      <td>1</td>\n",
       "      <td>N</td>\n",
       "      <td>232</td>\n",
       "      <td>243</td>\n",
       "      <td>3</td>\n",
       "      <td>538579.2</td>\n",
       "      <td>0.0</td>\n",
       "      <td>0.5</td>\n",
       "      <td>0.0</td>\n",
       "      <td>0.0</td>\n",
       "      <td>0.3</td>\n",
       "      <td>538580.0</td>\n",
       "    </tr>\n",
       "    <tr>\n",
       "      <th>1780817</th>\n",
       "      <td>1</td>\n",
       "      <td>01/19/2017 09:29:44 AM</td>\n",
       "      <td>01/19/2017 09:29:44 AM</td>\n",
       "      <td>3</td>\n",
       "      <td>0.0</td>\n",
       "      <td>1</td>\n",
       "      <td>N</td>\n",
       "      <td>239</td>\n",
       "      <td>264</td>\n",
       "      <td>2</td>\n",
       "      <td>625900.8</td>\n",
       "      <td>0.0</td>\n",
       "      <td>0.5</td>\n",
       "      <td>0.0</td>\n",
       "      <td>0.0</td>\n",
       "      <td>0.3</td>\n",
       "      <td>625901.6</td>\n",
       "    </tr>\n",
       "  </tbody>\n",
       "</table>\n",
       "<p>5161674 rows × 17 columns</p>\n",
       "</div>"
      ],
      "text/plain": [
       "         VendorID    tpep_pickup_datetime   tpep_dropoff_datetime  \\\n",
       "3221372         2  01/03/2017 10:05:09 AM  01/03/2017 10:06:15 AM   \n",
       "1638033         2  01/18/2017 08:32:37 PM  01/18/2017 08:35:12 PM   \n",
       "5063271         2  01/10/2017 11:58:42 AM  01/10/2017 11:59:00 AM   \n",
       "174670          2  01/01/2017 05:00:21 AM  01/01/2017 05:02:20 AM   \n",
       "1891388         2  01/06/2017 12:26:57 PM  01/06/2017 12:27:41 PM   \n",
       "...           ...                     ...                     ...   \n",
       "3037936         1  01/02/2017 03:21:24 PM  01/02/2017 03:33:17 PM   \n",
       "1251049         1  01/18/2017 08:30:23 AM  01/18/2017 09:22:07 AM   \n",
       "432743          2  01/15/2017 11:00:03 AM  01/15/2017 11:03:40 AM   \n",
       "127949          1  01/01/2017 02:15:10 AM  01/01/2017 02:57:09 AM   \n",
       "1780817         1  01/19/2017 09:29:44 AM  01/19/2017 09:29:44 AM   \n",
       "\n",
       "         passenger_count  trip_distance  RatecodeID store_and_fwd_flag  \\\n",
       "3221372                1            0.0           5                  N   \n",
       "1638033                1            0.0           5                  N   \n",
       "5063271                1           0.11           5                  N   \n",
       "174670                 1            0.0           5                  N   \n",
       "1891388                1           0.11           5                  N   \n",
       "...                  ...            ...         ...                ...   \n",
       "3037936                3            6.0           1                  N   \n",
       "1251049                1           15.9           1                  N   \n",
       "432743                 1            0.0           1                  N   \n",
       "127949                 1            0.0           1                  N   \n",
       "1780817                3            0.0           1                  N   \n",
       "\n",
       "         PULocationID  DOLocationID  payment_type  fare_amount  extra  \\\n",
       "3221372           258           258             3       -300.0    0.0   \n",
       "1638033           265           265             4       -169.0    0.0   \n",
       "5063271           244           244             4       -125.0    0.0   \n",
       "174670            264           234             4       -120.0    0.0   \n",
       "1891388           265           265             3       -110.0    0.0   \n",
       "...               ...           ...           ...          ...    ...   \n",
       "3037936           163           230             3       3009.8    0.0   \n",
       "1251049           264           264             4       8037.5  -3.59   \n",
       "432743            237           141             2       9000.5    0.0   \n",
       "127949            232           243             3     538579.2    0.0   \n",
       "1780817           239           264             2     625900.8    0.0   \n",
       "\n",
       "         mta_tax  tip_amount  tolls_amount  improvement_surcharge  \\\n",
       "3221372      0.0         0.0           0.0                   -0.3   \n",
       "1638033      0.0         0.0           0.0                   -0.3   \n",
       "5063271      0.0      -25.06           0.0                   -0.3   \n",
       "174670       0.0         0.0           0.0                   -0.3   \n",
       "1891388     -0.5         0.0           0.0                   -0.3   \n",
       "...          ...         ...           ...                    ...   \n",
       "3037936      0.0         0.0           0.0                    0.0   \n",
       "1251049     4.39         0.0          5.54                    0.0   \n",
       "432743       0.5         0.0           0.0                    0.3   \n",
       "127949       0.5         0.0           0.0                    0.3   \n",
       "1780817      0.5         0.0           0.0                    0.3   \n",
       "\n",
       "         total_amount  \n",
       "3221372        -300.3  \n",
       "1638033        -169.3  \n",
       "5063271       -150.36  \n",
       "174670         -120.3  \n",
       "1891388        -110.8  \n",
       "...               ...  \n",
       "3037936        3009.8  \n",
       "1251049       8043.84  \n",
       "432743         9001.3  \n",
       "127949       538580.0  \n",
       "1780817      625901.6  \n",
       "\n",
       "[5161674 rows x 17 columns]"
      ]
     },
     "execution_count": 17,
     "metadata": {},
     "output_type": "execute_result"
    }
   ],
   "source": [
    "df.sort_values('total_amount')"
   ]
  },
  {
   "cell_type": "code",
   "execution_count": 116,
   "id": "93c3a10a",
   "metadata": {
    "execution": {
     "iopub.execute_input": "2023-05-10T21:11:49.593769Z",
     "iopub.status.busy": "2023-05-10T21:11:49.593378Z",
     "iopub.status.idle": "2023-05-10T21:11:49.630744Z",
     "shell.execute_reply": "2023-05-10T21:11:49.629666Z"
    },
    "papermill": {
     "duration": 0.049197,
     "end_time": "2023-05-10T21:11:49.633228",
     "exception": false,
     "start_time": "2023-05-10T21:11:49.584031",
     "status": "completed"
    },
    "tags": []
   },
   "outputs": [
    {
     "data": {
      "text/html": [
       "<div>\n",
       "<style scoped>\n",
       "    .dataframe tbody tr th:only-of-type {\n",
       "        vertical-align: middle;\n",
       "    }\n",
       "\n",
       "    .dataframe tbody tr th {\n",
       "        vertical-align: top;\n",
       "    }\n",
       "\n",
       "    .dataframe thead th {\n",
       "        text-align: right;\n",
       "    }\n",
       "</style>\n",
       "<table border=\"1\" class=\"dataframe\">\n",
       "  <thead>\n",
       "    <tr style=\"text-align: right;\">\n",
       "      <th></th>\n",
       "      <th>VendorID</th>\n",
       "      <th>tpep_pickup_datetime</th>\n",
       "      <th>tpep_dropoff_datetime</th>\n",
       "      <th>passenger_count</th>\n",
       "      <th>trip_distance</th>\n",
       "      <th>RatecodeID</th>\n",
       "      <th>store_and_fwd_flag</th>\n",
       "      <th>PULocationID</th>\n",
       "      <th>DOLocationID</th>\n",
       "      <th>payment_type</th>\n",
       "      <th>fare_amount</th>\n",
       "      <th>extra</th>\n",
       "      <th>mta_tax</th>\n",
       "      <th>tip_amount</th>\n",
       "      <th>tolls_amount</th>\n",
       "      <th>improvement_surcharge</th>\n",
       "      <th>total_amount</th>\n",
       "    </tr>\n",
       "  </thead>\n",
       "  <tbody>\n",
       "  </tbody>\n",
       "</table>\n",
       "</div>"
      ],
      "text/plain": [
       "Empty DataFrame\n",
       "Columns: [VendorID, tpep_pickup_datetime, tpep_dropoff_datetime, passenger_count, trip_distance, RatecodeID, store_and_fwd_flag, PULocationID, DOLocationID, payment_type, fare_amount, extra, mta_tax, tip_amount, tolls_amount, improvement_surcharge, total_amount]\n",
       "Index: []"
      ]
     },
     "execution_count": 116,
     "metadata": {},
     "output_type": "execute_result"
    }
   ],
   "source": [
    "#df[~((df['VendorID']==1) | (df['VendorID']==2))].head(10)\n",
    "df[(df['VendorID']!='1') & (df['VendorID']!='2')].head(10)"
   ]
  },
  {
   "cell_type": "code",
   "execution_count": 101,
   "id": "0fae0e2c",
   "metadata": {
    "execution": {
     "iopub.execute_input": "2023-05-10T21:11:49.651716Z",
     "iopub.status.busy": "2023-05-10T21:11:49.651051Z",
     "iopub.status.idle": "2023-05-10T21:11:49.662588Z",
     "shell.execute_reply": "2023-05-10T21:11:49.661658Z"
    },
    "id": "bAQeHW-d2S1-",
    "papermill": {
     "duration": 0.023256,
     "end_time": "2023-05-10T21:11:49.664829",
     "exception": false,
     "start_time": "2023-05-10T21:11:49.641573",
     "status": "completed"
    },
    "tags": []
   },
   "outputs": [
    {
     "data": {
      "text/plain": [
       "payment_type\n",
       "1    3389962\n",
       "2    1739643\n",
       "3      24992\n",
       "4       7077\n",
       "dtype: int64"
      ]
     },
     "execution_count": 101,
     "metadata": {},
     "output_type": "execute_result"
    }
   ],
   "source": [
    "# How many of each payment type are represented in the data?\n",
    "viz_df = df.groupby('payment_type').size()\n",
    "viz_df"
   ]
  },
  {
   "cell_type": "code",
   "execution_count": 137,
   "id": "c50ad9fb",
   "metadata": {
    "execution": {
     "iopub.execute_input": "2023-05-10T21:11:49.683976Z",
     "iopub.status.busy": "2023-05-10T21:11:49.683597Z",
     "iopub.status.idle": "2023-05-10T21:11:49.987017Z",
     "shell.execute_reply": "2023-05-10T21:11:49.985817Z"
    },
    "id": "W77hp8q3w-zi",
    "papermill": {
     "duration": 0.315467,
     "end_time": "2023-05-10T21:11:49.989190",
     "exception": false,
     "start_time": "2023-05-10T21:11:49.673723",
     "status": "completed"
    },
    "scrolled": true,
    "tags": []
   },
   "outputs": [
    {
     "name": "stdout",
     "output_type": "stream",
     "text": [
      "Average tip for credit card payments = $ 2.61\n",
      "Average tip for cash payments = $ 0.0\n"
     ]
    }
   ],
   "source": [
    "# What is the average tip for trips paid for with credit card?\n",
    "print(f\"Average tip for credit card payments = $ {round(df[round(df['payment_type']) == 1]['tip_amount'].agg('mean'), 2)}\")\n",
    "\n",
    "# What is the average tip for trips paid for with cash?\n",
    "print(f\"Average tip for cash payments = $ {round(df[round(df['payment_type']) == 2]['tip_amount'].agg('mean'), 2)}\")"
   ]
  },
  {
   "cell_type": "markdown",
   "id": "1577d9a0",
   "metadata": {},
   "source": [
    "This is justified since cash tips are not included in the data."
   ]
  },
  {
   "cell_type": "code",
   "execution_count": 138,
   "id": "eee8c85a",
   "metadata": {
    "execution": {
     "iopub.execute_input": "2023-05-10T21:11:50.008617Z",
     "iopub.status.busy": "2023-05-10T21:11:50.008212Z",
     "iopub.status.idle": "2023-05-10T21:11:50.017749Z",
     "shell.execute_reply": "2023-05-10T21:11:50.016934Z"
    },
    "papermill": {
     "duration": 0.021858,
     "end_time": "2023-05-10T21:11:50.019813",
     "exception": false,
     "start_time": "2023-05-10T21:11:49.997955",
     "status": "completed"
    },
    "tags": []
   },
   "outputs": [
    {
     "data": {
      "text/plain": [
       "VendorID\n",
       "1    2328110\n",
       "2    2833564\n",
       "dtype: int64"
      ]
     },
     "execution_count": 138,
     "metadata": {},
     "output_type": "execute_result"
    }
   ],
   "source": [
    "# How many times is each vendor ID represented in the data\n",
    "df.groupby('VendorID').size()"
   ]
  },
  {
   "cell_type": "code",
   "execution_count": 139,
   "id": "d8d50747",
   "metadata": {
    "execution": {
     "iopub.execute_input": "2023-05-10T21:11:50.039752Z",
     "iopub.status.busy": "2023-05-10T21:11:50.039125Z",
     "iopub.status.idle": "2023-05-10T21:11:50.059309Z",
     "shell.execute_reply": "2023-05-10T21:11:50.058283Z"
    },
    "papermill": {
     "duration": 0.033442,
     "end_time": "2023-05-10T21:11:50.062144",
     "exception": false,
     "start_time": "2023-05-10T21:11:50.028702",
     "status": "completed"
    },
    "tags": []
   },
   "outputs": [
    {
     "data": {
      "text/plain": [
       "VendorID\n",
       "1     15.64461\n",
       "2    15.556217\n",
       "Name: total_amount, dtype: Float64"
      ]
     },
     "execution_count": 139,
     "metadata": {},
     "output_type": "execute_result"
    }
   ],
   "source": [
    "# What is the mean total amount for each vendor?\n",
    "df.groupby('VendorID').mean().loc[:,'total_amount']"
   ]
  },
  {
   "cell_type": "code",
   "execution_count": 140,
   "id": "066b818e",
   "metadata": {
    "execution": {
     "iopub.execute_input": "2023-05-10T21:11:50.082341Z",
     "iopub.status.busy": "2023-05-10T21:11:50.081938Z",
     "iopub.status.idle": "2023-05-10T21:11:50.113101Z",
     "shell.execute_reply": "2023-05-10T21:11:50.111943Z"
    },
    "papermill": {
     "duration": 0.043955,
     "end_time": "2023-05-10T21:11:50.115345",
     "exception": false,
     "start_time": "2023-05-10T21:11:50.071390",
     "status": "completed"
    },
    "tags": []
   },
   "outputs": [
    {
     "name": "stdout",
     "output_type": "stream",
     "text": [
      "         VendorID    tpep_pickup_datetime   tpep_dropoff_datetime  \\\n",
      "0               1  01/09/2017 11:13:28 AM  01/09/2017 11:25:45 AM   \n",
      "1               1  01/09/2017 11:32:27 AM  01/09/2017 11:36:01 AM   \n",
      "2               1  01/09/2017 11:38:20 AM  01/09/2017 11:42:05 AM   \n",
      "3               1  01/09/2017 11:52:13 AM  01/09/2017 11:57:36 AM   \n",
      "6               2  01/01/2017 12:00:02 AM  01/01/2017 12:39:22 AM   \n",
      "...           ...                     ...                     ...   \n",
      "5161667         1  01/10/2017 06:07:33 PM  01/10/2017 06:30:44 PM   \n",
      "5161668         1  01/10/2017 06:07:33 PM  01/10/2017 06:40:14 PM   \n",
      "5161669         1  01/10/2017 06:07:33 PM  01/10/2017 06:22:39 PM   \n",
      "5161671         2  01/10/2017 06:07:33 PM  01/10/2017 06:42:51 PM   \n",
      "5161673         1  01/10/2017 06:07:34 PM  01/10/2017 06:22:40 PM   \n",
      "\n",
      "         passenger_count  trip_distance  RatecodeID store_and_fwd_flag  \\\n",
      "0                      1            3.3           1                  N   \n",
      "1                      1            0.9           1                  N   \n",
      "2                      1            1.1           1                  N   \n",
      "3                      1            1.1           1                  N   \n",
      "6                      4           7.75           1                  N   \n",
      "...                  ...            ...         ...                ...   \n",
      "5161667                1            3.7           1                  N   \n",
      "5161668                1           16.1           2                  Y   \n",
      "5161669                1            1.3           1                  N   \n",
      "5161671                1           6.55           1                  N   \n",
      "5161673                1            2.3           1                  N   \n",
      "\n",
      "         PULocationID  DOLocationID  payment_type  fare_amount  extra  \\\n",
      "0                 263           161             1         12.5    0.0   \n",
      "1                 186           234             1          5.0    0.0   \n",
      "2                 164           161             1          5.5    0.0   \n",
      "3                 236            75             1          6.0    0.0   \n",
      "6                 186            36             1         22.0    0.5   \n",
      "...               ...           ...           ...          ...    ...   \n",
      "5161667           170           238             1         16.5    1.0   \n",
      "5161668           132           107             1         52.0    4.5   \n",
      "5161669           237           161             1         10.5    1.0   \n",
      "5161671           234           260             1         26.0    1.0   \n",
      "5161673            42            75             1         12.0    1.0   \n",
      "\n",
      "         mta_tax  tip_amount  tolls_amount  improvement_surcharge  \\\n",
      "0            0.5         2.0           0.0                    0.3   \n",
      "1            0.5        1.45           0.0                    0.3   \n",
      "2            0.5         1.0           0.0                    0.3   \n",
      "3            0.5         1.7           0.0                    0.3   \n",
      "6            0.5        4.66           0.0                    0.3   \n",
      "...          ...         ...           ...                    ...   \n",
      "5161667      0.5        3.65           0.0                    0.3   \n",
      "5161668      0.5         0.0          5.54                    0.3   \n",
      "5161669      0.5        2.45           0.0                    0.3   \n",
      "5161671      0.5        10.0          5.54                    0.3   \n",
      "5161673      0.5         1.5           0.0                    0.3   \n",
      "\n",
      "         total_amount  \n",
      "0                15.3  \n",
      "1                7.25  \n",
      "2                 7.3  \n",
      "3                 8.5  \n",
      "6               27.96  \n",
      "...               ...  \n",
      "5161667         21.95  \n",
      "5161668         62.84  \n",
      "5161669         14.75  \n",
      "5161671         43.34  \n",
      "5161673          15.3  \n",
      "\n",
      "[3389962 rows x 17 columns]\n",
      "         VendorID    tpep_pickup_datetime   tpep_dropoff_datetime  \\\n",
      "4               2  01/01/2017 12:00:00 AM  01/01/2017 12:00:00 AM   \n",
      "5               1  01/01/2017 12:00:02 AM  01/01/2017 12:03:50 AM   \n",
      "9               2  01/01/2017 12:00:05 AM  01/01/2017 12:05:04 AM   \n",
      "11              1  01/01/2017 12:00:06 AM  01/01/2017 12:11:56 AM   \n",
      "16              2  01/01/2017 12:00:06 AM  01/01/2017 12:18:12 AM   \n",
      "...           ...                     ...                     ...   \n",
      "5161659         1  01/10/2017 06:07:31 PM  01/10/2017 06:14:31 PM   \n",
      "5161660         2  01/10/2017 06:07:31 PM  01/10/2017 06:07:52 PM   \n",
      "5161661         2  01/10/2017 06:07:31 PM  01/10/2017 06:13:52 PM   \n",
      "5161670         2  01/10/2017 06:07:33 PM  01/10/2017 06:31:01 PM   \n",
      "5161672         2  01/10/2017 06:07:33 PM  01/10/2017 06:11:22 PM   \n",
      "\n",
      "         passenger_count  trip_distance  RatecodeID store_and_fwd_flag  \\\n",
      "4                      1           0.02           2                  N   \n",
      "5                      1            0.5           1                  N   \n",
      "9                      5           1.76           1                  N   \n",
      "11                     2            2.4           1                  N   \n",
      "16                     5           4.25           1                  N   \n",
      "...                  ...            ...         ...                ...   \n",
      "5161659                1            1.1           1                  N   \n",
      "5161660                1           0.02           1                  N   \n",
      "5161661                1           0.81           1                  N   \n",
      "5161670                6            5.0           1                  N   \n",
      "5161672                2           0.47           1                  N   \n",
      "\n",
      "         PULocationID  DOLocationID  payment_type  fare_amount  extra  \\\n",
      "4                 249           234             2         52.0    0.0   \n",
      "5                  48            48             2          4.0    0.5   \n",
      "9                 140            74             2          7.0    0.5   \n",
      "11                142           236             2         10.5    0.5   \n",
      "16                148            36             2         16.5    0.5   \n",
      "...               ...           ...           ...          ...    ...   \n",
      "5161659           140           263             2          6.5    1.0   \n",
      "5161660           264           132             2          2.5    1.0   \n",
      "5161661           230           230             2          6.0    1.0   \n",
      "5161670           138             7             2         19.5    1.0   \n",
      "5161672           234           164             2          4.5    1.0   \n",
      "\n",
      "         mta_tax  tip_amount  tolls_amount  improvement_surcharge  \\\n",
      "4            0.5         0.0           0.0                    0.3   \n",
      "5            0.5         0.0           0.0                    0.3   \n",
      "9            0.5         0.0           0.0                    0.3   \n",
      "11           0.5         0.0           0.0                    0.3   \n",
      "16           0.5         0.0           0.0                    0.3   \n",
      "...          ...         ...           ...                    ...   \n",
      "5161659      0.5         0.0           0.0                    0.3   \n",
      "5161660      0.5         0.0           0.0                    0.3   \n",
      "5161661      0.5         0.0           0.0                    0.3   \n",
      "5161670      0.5         0.0           0.0                    0.3   \n",
      "5161672      0.5         0.0           0.0                    0.3   \n",
      "\n",
      "         total_amount  \n",
      "4                52.8  \n",
      "5                 5.3  \n",
      "9                 8.3  \n",
      "11               11.8  \n",
      "16               17.8  \n",
      "...               ...  \n",
      "5161659           8.3  \n",
      "5161660           4.3  \n",
      "5161661           7.8  \n",
      "5161670          21.3  \n",
      "5161672           6.3  \n",
      "\n",
      "[1739643 rows x 17 columns]\n"
     ]
    }
   ],
   "source": [
    "# Filter the data for credit card payments only\n",
    "print(df[df['payment_type']==1])\n",
    "\n",
    "# Filter the data for passenger count only\n",
    "print(df[df['payment_type']==2])"
   ]
  },
  {
   "cell_type": "code",
   "execution_count": 141,
   "id": "0d023e30",
   "metadata": {
    "execution": {
     "iopub.execute_input": "2023-05-10T21:11:50.137337Z",
     "iopub.status.busy": "2023-05-10T21:11:50.136946Z",
     "iopub.status.idle": "2023-05-10T21:11:50.153352Z",
     "shell.execute_reply": "2023-05-10T21:11:50.152040Z"
    },
    "papermill": {
     "duration": 0.030169,
     "end_time": "2023-05-10T21:11:50.155565",
     "exception": false,
     "start_time": "2023-05-10T21:11:50.125396",
     "status": "completed"
    },
    "tags": []
   },
   "outputs": [
    {
     "data": {
      "text/plain": [
       "passenger_count\n",
       "0    2.440708\n",
       "1    2.588136\n",
       "2    2.682353\n",
       "3    2.594195\n",
       "4    2.643703\n",
       "5    2.644467\n",
       "6    2.596666\n",
       "7    4.371667\n",
       "8       3.725\n",
       "9      11.845\n",
       "Name: tip_amount, dtype: Float64"
      ]
     },
     "execution_count": 141,
     "metadata": {},
     "output_type": "execute_result"
    }
   ],
   "source": [
    "# Calculate the average tip amount for each passenger count (credit card payments only)\n",
    "df[df['payment_type']==1].groupby('passenger_count').mean().loc[:, 'tip_amount']"
   ]
  },
  {
   "cell_type": "markdown",
   "id": "e7d7aa85",
   "metadata": {
    "id": "tF_82VLgzrQm",
    "papermill": {
     "duration": 0.009636,
     "end_time": "2023-05-10T21:11:50.175210",
     "exception": false,
     "start_time": "2023-05-10T21:11:50.165574",
     "status": "completed"
    },
    "tags": []
   },
   "source": [
    "<a id=\"construct\"></a>\n",
    "\n",
    "## PACE: **Construct**"
   ]
  },
  {
   "cell_type": "markdown",
   "id": "dd9bc9a9",
   "metadata": {
    "id": "j3jXzt2CKmn8",
    "papermill": {
     "duration": 0.010136,
     "end_time": "2023-05-10T21:11:50.195520",
     "exception": false,
     "start_time": "2023-05-10T21:11:50.185384",
     "status": "completed"
    },
    "tags": []
   },
   "source": [
    "**Note**: The Construct stage does not apply to this workflow. The PACE framework can be adapted to fit the specific requirements of any project. \n"
   ]
  },
  {
   "cell_type": "markdown",
   "id": "58d2f8f0",
   "metadata": {
    "id": "BMHV86A6zrQo",
    "papermill": {
     "duration": 0.010157,
     "end_time": "2023-05-10T21:11:50.216133",
     "exception": false,
     "start_time": "2023-05-10T21:11:50.205976",
     "status": "completed"
    },
    "tags": []
   },
   "source": [
    "<a id=\"execute\"></a>\n",
    "\n",
    "## PACE: **Execute**"
   ]
  },
  {
   "cell_type": "markdown",
   "id": "a0d3ea50",
   "metadata": {
    "id": "u3HxcMZgz6iW",
    "papermill": {
     "duration": 0.009767,
     "end_time": "2023-05-10T21:11:50.236595",
     "exception": false,
     "start_time": "2023-05-10T21:11:50.226828",
     "status": "completed"
    },
    "tags": []
   },
   "source": [
    "### **Given your efforts, what can you summarize for DeShawn and the data team?**\n",
    "*Note for Learners: Your answer should address Luana's request for a summary that covers the following points:*\n",
    "\n",
    "- A summary of the data types of each variable\n",
    "\n",
    "- The number of null and non-null values\n",
    "\n",
    "- Preliminary insights derived from the data, including:\n",
    "\n",
    "    - Unusual or questionable values\n",
    "    - How many of each payment type are represented in the data\n",
    "    - Mean tip amount for each payment type\n",
    "    - How many rides each vendor provided\n",
    "    - Mean total amount for each vendor\n",
    "    - Mean tip amount for each passenger count (only of those who paid by credit card)"
   ]
  },
  {
   "cell_type": "markdown",
   "id": "1058796f",
   "metadata": {},
   "source": [
    "**Answer:**\n",
    "- The data contains errors.\n",
    "- Distance is 0 for some rides.\n",
    "- Total amount is negative for some rides.\n",
    "- Total amount is questionable for some rides like its around \\\\$6000 for rides with 0 miles but some time inside cab. But the PU and DO IDs are not same. So could be an error in distance. Or maybe high charge is due to time spent in an expensive vehicle like a limo.\n",
    "- Payment type distribution can be seen in the visualization.\n",
    "- Average tip for credit card payments is $\\$$2.61\n",
    "- Average Total amount is similar for both vendors ~\\\\$15.64.\n",
    "- Tips are larger for passenger count greater than 6."
   ]
  },
  {
   "cell_type": "code",
   "execution_count": 18,
   "id": "eac76932",
   "metadata": {},
   "outputs": [],
   "source": [
    "import matplotlib.pyplot as plt"
   ]
  },
  {
   "cell_type": "code",
   "execution_count": 103,
   "id": "b9e230a6",
   "metadata": {},
   "outputs": [
    {
     "data": {
      "text/plain": [
       "Text(0, 0.5, 'Count')"
      ]
     },
     "execution_count": 103,
     "metadata": {},
     "output_type": "execute_result"
    },
    {
     "data": {
      "image/png": "[encoded data removed]",
      "text/plain": [
       "<Figure size 640x480 with 1 Axes>"
      ]
     },
     "metadata": {},
     "output_type": "display_data"
    }
   ],
   "source": [
    "plt.bar(viz_df.index, viz_df)\n",
    "plt.xlabel(\"payment type\")\n",
    "plt.ylabel(\"Count\")\n",
    "#plt.text(1, 1e6, 1e6)"
   ]
  },
  {
   "cell_type": "code",
   "execution_count": 108,
   "id": "74b10f68",
   "metadata": {},
   "outputs": [
    {
     "data": {
      "text/plain": [
       "Text(0.5, 1.0, 'Payment type distribution')"
      ]
     },
     "execution_count": 108,
     "metadata": {},
     "output_type": "execute_result"
    },
    {
     "data": {
      "image/png": "[encoded data removed]",
      "text/plain": [
       "<Figure size 640x480 with 1 Axes>"
      ]
     },
     "metadata": {},
     "output_type": "display_data"
    }
   ],
   "source": [
    "plt.pie(viz_df, labels=viz_df.index, autopct='%.1f%%')\n",
    "plt.text(-1, -1.2, f'Total Count of payment types: {sum(viz_df)}')\n",
    "plt.title('Payment type distribution')"
   ]
  },
  {
   "cell_type": "code",
   "execution_count": 33,
   "id": "c599f96e",
   "metadata": {},
   "outputs": [
    {
     "data": {
      "text/plain": [
       "payment_type\n",
       "1    3389962\n",
       "2    1739643\n",
       "3      24992\n",
       "4       7077\n",
       "dtype: int64"
      ]
     },
     "execution_count": 33,
     "metadata": {},
     "output_type": "execute_result"
    }
   ],
   "source": [
    "viz_df"
   ]
  },
  {
   "cell_type": "code",
   "execution_count": 82,
   "id": "888dc0fa",
   "metadata": {},
   "outputs": [
    {
     "data": {
      "text/plain": [
       "0    3389962\n",
       "1    1739643\n",
       "2      24992\n",
       "3       7077\n",
       "Name: 0, dtype: int64"
      ]
     },
     "execution_count": 82,
     "metadata": {},
     "output_type": "execute_result"
    }
   ],
   "source": [
    "viz_df.reset_index()[0]#.iloc[:,1]"
   ]
  },
  {
   "cell_type": "code",
   "execution_count": 28,
   "id": "77d70019",
   "metadata": {},
   "outputs": [
    {
     "data": {
      "text/plain": [
       "Text(0.5, 1.0, 'Distribution of Vendors')"
      ]
     },
     "execution_count": 28,
     "metadata": {},
     "output_type": "execute_result"
    },
    {
     "data": {
      "image/png": "[encoded data removed]",
      "text/plain": [
       "<Figure size 640x480 with 1 Axes>"
      ]
     },
     "metadata": {},
     "output_type": "display_data"
    }
   ],
   "source": [
    "plt.pie(df.groupby('VendorID').size(), labels = ['Creative Mobile Technologies, LLC', 'VeriFone Inc.'], autopct = '%.1f');\n",
    "plt.title('Distribution of Vendors')"
   ]
  }
 ],
 "metadata": {
  "kernelspec": {
   "display_name": "Python 3 (ipykernel)",
   "language": "python",
   "name": "python3"
  },
  "language_info": {
   "codemirror_mode": {
    "name": "ipython",
    "version": 3
   },
   "file_extension": ".py",
   "mimetype": "text/x-python",
   "name": "python",
   "nbconvert_exporter": "python",
   "pygments_lexer": "ipython3",
   "version": "3.9.12"
  },
  "papermill": {
   "default_parameters": {},
   "duration": 13.631078,
   "end_time": "2023-05-10T21:11:51.168639",
   "environment_variables": {},
   "exception": null,
   "input_path": "__notebook__.ipynb",
   "output_path": "__notebook__.ipynb",
   "parameters": {},
   "start_time": "2023-05-10T21:11:37.537561",
   "version": "2.4.0"
  }
 },
 "nbformat": 4,
 "nbformat_minor": 5
}
